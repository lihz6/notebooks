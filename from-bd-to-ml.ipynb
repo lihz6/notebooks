{
 "cells": [
  {
   "cell_type": "markdown",
   "metadata": {
    "slideshow": {
     "slide_type": "slide"
    }
   },
   "source": [
    "# Contents\n",
    "\n",
    "---\n",
    "---\n",
    "\n",
    "## - From Bigdata to Hadoop\n",
    "\n",
    "### &nbsp; &nbsp; &nbsp; - Why Hadoop?\n",
    "### &nbsp; &nbsp; &nbsp; - Hadoop Architecture\n",
    "### &nbsp; &nbsp; &nbsp; - Hadoop MapReduce\n",
    "### &nbsp; &nbsp; &nbsp; - Setting up a Cluster\n",
    "### &nbsp; &nbsp; &nbsp; - Hadoop Ecosystem\n",
    "\n",
    "## - Using Hadoop with Python\n",
    "\n",
    "### &nbsp; &nbsp; &nbsp; - Mapper in Python\n",
    "### &nbsp; &nbsp; &nbsp; - Reducer in Python\n",
    "\n",
    "## - Python Basics\n",
    "\n",
    "### &nbsp; &nbsp; &nbsp; - Environment\n",
    "### &nbsp; &nbsp; &nbsp; - Basic Syntax\n",
    "\n",
    "## - Maching Learning in Python\n",
    "\n",
    "### &nbsp; &nbsp; &nbsp; - About Machine Learning\n",
    "\n",
    "### &nbsp; &nbsp; &nbsp; &nbsp; &nbsp; &nbsp; - Some Mathematics\n",
    "### &nbsp; &nbsp; &nbsp; &nbsp; &nbsp; &nbsp; - What is a Model?\n",
    "### &nbsp; &nbsp; &nbsp; &nbsp; &nbsp; &nbsp; - A Decision Tree\n",
    "### &nbsp; &nbsp; &nbsp; &nbsp; &nbsp; &nbsp; - Deep Learning\n",
    "\n",
    "### &nbsp; &nbsp; &nbsp; - Some Utilities for ML\n",
    "\n",
    "### &nbsp; &nbsp; &nbsp; &nbsp; &nbsp; &nbsp; - Ubuntu\n",
    "### &nbsp; &nbsp; &nbsp; &nbsp; &nbsp; &nbsp; - Python\n",
    "### &nbsp; &nbsp; &nbsp; &nbsp; &nbsp; &nbsp; - PostgreSQL\n",
    "\n",
    "## -"
   ]
  },
  {
   "cell_type": "markdown",
   "metadata": {
    "slideshow": {
     "slide_type": "slide"
    }
   },
   "source": [
    "## Why Hadoop?\n",
    "---\n",
    "\n",
    "### - Massive amounts of data is too big to store and compute on a single computer\n",
    "\n",
    "### &nbsp; &nbsp; &nbsp; - Hadoop Distributed File System (HDFS)\n",
    "### &nbsp; &nbsp; &nbsp; - MapReduce programming model\n",
    "\n",
    "### - Hardware failure is the norm rather than the exception\n",
    "\n",
    "### &nbsp; &nbsp; &nbsp; - Detection of faults\n",
    "### &nbsp; &nbsp; &nbsp; - Quick, automatic recovery\n",
    "\n",
    "### -"
   ]
  },
  {
   "cell_type": "markdown",
   "metadata": {
    "slideshow": {
     "slide_type": "slide"
    }
   },
   "source": [
    "## Hadoop Architecture\n",
    "---\n",
    "![Hadoop Ecosystem](resources.d/hadoop-architecture.png)\n",
    "### -"
   ]
  },
  {
   "cell_type": "markdown",
   "metadata": {
    "slideshow": {
     "slide_type": "slide"
    }
   },
   "source": [
    "## Hadoop MapReduce\n",
    "---\n",
    "![Hadoop Ecosystem](resources.d/hadoop-mapreduce.png)\n",
    "### -"
   ]
  },
  {
   "cell_type": "markdown",
   "metadata": {
    "slideshow": {
     "slide_type": "slide"
    }
   },
   "source": [
    "## Setting up a Cluster\n",
    "---\n",
    "### &nbsp; &nbsp; &nbsp; - Install Java, `JAVA_HOME`\n",
    "### &nbsp; &nbsp; &nbsp; - Install `ssh`, `rsync`, `sshd`\n",
    "### &nbsp; &nbsp; &nbsp; - `ssh` to the remote without a passphrase\n",
    "### &nbsp; &nbsp; &nbsp; - Install Hadoop on all the machines in the cluster\n",
    "### -"
   ]
  },
  {
   "cell_type": "markdown",
   "metadata": {
    "slideshow": {
     "slide_type": "slide"
    }
   },
   "source": [
    "## Hadoop Ecosystem\n",
    "---\n",
    "![Hadoop Ecosystem](resources.d/hadoop-ecosystem.png)\n",
    "### -"
   ]
  },
  {
   "cell_type": "markdown",
   "metadata": {
    "slideshow": {
     "slide_type": "slide"
    }
   },
   "source": [
    "## Mapper in Python\n",
    "---\n",
    "```python\n",
    "#!/usr/bin/env python3\n",
    "\n",
    "from sys import stdin\n",
    "from collections import Counter\n",
    "\n",
    "c = Counter()\n",
    "\n",
    "for line in stdin:\n",
    "    c.update(line.strip().split())\n",
    "\n",
    "for word, count in c.items():\n",
    "    if word and count:\n",
    "        print(word, count, sep='\\t')\n",
    "```\n",
    "### -\n",
    "\n",
    "## Reducer in Python\n",
    "---\n",
    "```python\n",
    "#!/usr/bin/env python3\n",
    "\n",
    "from sys import stdin\n",
    "from collections import Counter\n",
    "\n",
    "c = Counter()\n",
    "\n",
    "for line in stdin:\n",
    "    word, count = line.strip().split('\\t')\n",
    "    c.update({word: int(count)})\n",
    "\n",
    "for word, count in c.items():\n",
    "    print(word, count, sep='\\t')\n",
    "```\n",
    "### -\n",
    "\n",
    "## Running on Hadoop\n",
    "---\n",
    "```bash\n",
    "$ ./bin/hadoop jar contrib/streaming/hadoop-*streaming*.jar \\\n",
    "    -file /home/lihz/mapper.py   \\\n",
    "    -mapper /home/lihz/mapper.py  \\\n",
    "    -file /home/lihz/reducer.py    \\\n",
    "    -reducer /home/lihz/reducer.py  \\\n",
    "    -input '/user/lihz/gutenberg/*'  \\\n",
    "    -output /user/lihz/gutenberg-output\n",
    "```\n",
    "### -"
   ]
  },
  {
   "cell_type": "markdown",
   "metadata": {
    "slideshow": {
     "slide_type": "slide"
    }
   },
   "source": [
    "## Environment\n",
    "---\n",
    "### &nbsp; &nbsp; &nbsp; - Install Python 3\n",
    "### &nbsp; &nbsp; &nbsp; - Install VSCode\n",
    "### &nbsp; &nbsp; &nbsp; - Get Python Ext\n",
    "### &nbsp; &nbsp; &nbsp; - Happy Coding\n",
    "### -"
   ]
  },
  {
   "cell_type": "markdown",
   "metadata": {
    "slideshow": {
     "slide_type": "slide"
    }
   },
   "source": [
    "## Basic Syntax\n",
    "---"
   ]
  },
  {
   "cell_type": "code",
   "execution_count": null,
   "metadata": {
    "slideshow": {
     "slide_type": "slide"
    }
   },
   "outputs": [],
   "source": [
    "# Hello, world! #\n",
    "\n",
    "if __name__ == '__main__':\n",
    "    print('Hello, world!')"
   ]
  },
  {
   "cell_type": "code",
   "execution_count": null,
   "metadata": {
    "slideshow": {
     "slide_type": "slide"
    }
   },
   "outputs": [],
   "source": [
    "# Iterating: Iterator #\n",
    "\n",
    "pets = ['cat', 'dog', 'pig']\n",
    "\n",
    "for pet in pets:\n",
    "    print(f'Got a `{pet}`')"
   ]
  },
  {
   "cell_type": "code",
   "execution_count": null,
   "metadata": {
    "slideshow": {
     "slide_type": "slide"
    }
   },
   "outputs": [],
   "source": [
    "# Iterating: Generator #\n",
    "\n",
    "def fib():\n",
    "    a, b = 0, 1\n",
    "    while True:\n",
    "        a, b = b, a + b\n",
    "        yield a\n",
    "\n",
    "for b in fib():\n",
    "    if b > 100:\n",
    "        break\n",
    "    print(b)"
   ]
  },
  {
   "cell_type": "code",
   "execution_count": null,
   "metadata": {
    "slideshow": {
     "slide_type": "slide"
    }
   },
   "outputs": [],
   "source": [
    "# defining functions #\n",
    "\n",
    "def function(arg1, arg2='arg2', *args, **kws):\n",
    "    print('[1] arg1', arg1)\n",
    "    print('[2] arg2', arg2)\n",
    "    for arg in args:\n",
    "        print('[3] arg', arg)\n",
    "    for key, val in kws.items():\n",
    "        print(f'[4] {key}', val)\n",
    "    return arg1, arg2\n",
    "\n",
    "\n",
    "function('par1')\n",
    "\n",
    "function('par1', 'par2')\n",
    "\n",
    "function(arg2='par2', arg1='par1')\n",
    "\n",
    "function('par1', 'par2', 'par3', 'par4')\n",
    "\n",
    "function('par1', 'par2', arg5='par5', arg6='par6')"
   ]
  },
  {
   "cell_type": "code",
   "execution_count": null,
   "metadata": {
    "slideshow": {
     "slide_type": "slide"
    }
   },
   "outputs": [],
   "source": [
    "# using packages #\n",
    "\n",
    "def search(keyword):\n",
    "    from urllib.parse import quote\n",
    "    from requests import get\n",
    "    from bs4 import BeautifulSoup as Soup\n",
    "\n",
    "    text = get(\n",
    "        f'https://www.baidu.com/s?wd={quote(keyword)}',\n",
    "        headers={\n",
    "            'User-Agent': 'ozilla/5.0 (Macintosh; Intel Mac OS X 10_14_1) AppleWebKit/537.36 (KHTML, like Gecko) Chrome/75.0.3770.142 Safari/537.36'\n",
    "        },\n",
    "    ).text\n",
    "    soup = Soup(text, 'html5lib')\n",
    "    print(soup.find(class_='nums_text').get_text(), end='\\n\\n')\n",
    "    for i, result in enumerate(soup.find_all('h3')):\n",
    "        print(f'  [{str(i+1).zfill(2)}] {result.get_text().strip()}')\n",
    "\n",
    "\n",
    "if __name__ == '__main__':\n",
    "    while True:\n",
    "        keyword = input('Search: ')\n",
    "        if not keyword:\n",
    "            print('Bye')\n",
    "            break\n",
    "        try:\n",
    "            search(keyword)\n",
    "        except:\n",
    "            pass\n"
   ]
  },
  {
   "cell_type": "code",
   "execution_count": null,
   "metadata": {
    "slideshow": {
     "slide_type": "slide"
    }
   },
   "outputs": [],
   "source": [
    "# Writing a Web Server\n",
    "\n",
    "from flask import Flask, escape, request\n",
    "\n",
    "app = Flask(__name__)\n",
    "\n",
    "@app.route('/<name>')\n",
    "def hello(name):\n",
    "  return f'Hello, {name}'\n",
    "\n",
    "\n",
    "@app.route('/')\n",
    "def world():\n",
    "    return 'Hello, world'\n",
    "\n",
    "if __name__ == '__main__':\n",
    "    app.run()"
   ]
  },
  {
   "cell_type": "markdown",
   "metadata": {
    "slideshow": {
     "slide_type": "slide"
    }
   },
   "source": [
    "## Some Mathematics\n",
    "---\n",
    "### &nbsp; &nbsp; &nbsp; - Leibniz formula for $\\pi$ ${\\pi \\over 4} = {1 \\over 1} - {1 \\over 3} + {1 \\over 5} - {1 \\over 7} + {1 \\over 9} \\cdots$\n",
    "### &nbsp; &nbsp; &nbsp; - Fourier Series\n",
    "![Fourier](resources.d/fourier.png)\n",
    "### -"
   ]
  },
  {
   "cell_type": "markdown",
   "metadata": {
    "slideshow": {
     "slide_type": "slide"
    }
   },
   "source": [
    "## What Exactly is a Model?\n",
    "---\n",
    "![Atom Model](resources.d/atom-model.svg)\n",
    "### -"
   ]
  },
  {
   "cell_type": "code",
   "execution_count": 19,
   "metadata": {
    "slideshow": {
     "slide_type": "slide"
    }
   },
   "outputs": [
    {
     "data": {
      "image/png": "[encoded data removed]",
      "text/plain": [
       "<Figure size 432x288 with 1 Axes>"
      ]
     },
     "metadata": {
      "needs_background": "light"
     },
     "output_type": "display_data"
    }
   ],
   "source": [
    "import numpy as np\n",
    "import matplotlib.pyplot as plt\n",
    "x = np.linspace(1, 100, 100)\n",
    "for k, b in (1, -28), (1, 16), (2, 1), (-1, 4):\n",
    "    plt.plot(x, k*x+b, label=f'y = {k}x + {b}'.replace('1x', 'x'))\n",
    "plt.legend(loc='best')\n",
    "plt.show()\n",
    "\n",
    "\n",
    "# what's model?\n",
    "model = k, b\n",
    "\n",
    "def function(x):\n",
    "    return x * model[0] + model[1]"
   ]
  },
  {
   "cell_type": "markdown",
   "metadata": {
    "slideshow": {
     "slide_type": "slide"
    }
   },
   "source": [
    "## A Decision Tree\n",
    "### &nbsp; &nbsp; &nbsp; - [http://www.r2d3.us/visual-intro-to-machine-learning-part-1/](http://www.r2d3.us/%E5%9B%BE%E8%A7%A3%E6%9C%BA%E5%99%A8%E5%AD%A6%E4%B9%A0/)\n",
    "### -"
   ]
  },
  {
   "cell_type": "markdown",
   "metadata": {
    "slideshow": {
     "slide_type": "slide"
    }
   },
   "source": [
    "## Deep Learning\n",
    "![Deep Learning](resources.d/deep-learning.png)\n",
    "### -"
   ]
  },
  {
   "cell_type": "markdown",
   "metadata": {
    "slideshow": {
     "slide_type": "slide"
    }
   },
   "source": [
    "## Some Utilities for ML\n",
    "---\n",
    "### &nbsp; &nbsp; &nbsp; - Ubuntu\n",
    "\n",
    "### &nbsp; &nbsp; &nbsp; &nbsp; &nbsp; &nbsp; - First Class\n",
    "### &nbsp; &nbsp; &nbsp; &nbsp; &nbsp; &nbsp; - Consistency\n",
    "### &nbsp; &nbsp; &nbsp; &nbsp; &nbsp; &nbsp; - `apt` Packages\n",
    "### &nbsp; &nbsp; &nbsp; &nbsp; &nbsp; &nbsp; - `snap` Packages\n",
    "\n",
    "### &nbsp; &nbsp; &nbsp; - Python\n",
    "\n",
    "### &nbsp; &nbsp; &nbsp; &nbsp; &nbsp; &nbsp; - Tensorflow\n",
    "### &nbsp; &nbsp; &nbsp; &nbsp; &nbsp; &nbsp; - PyTorch\n",
    "\n",
    "### &nbsp; &nbsp; &nbsp; - PostgreSQL\n",
    "\n",
    "### &nbsp; &nbsp; &nbsp; &nbsp; &nbsp; &nbsp; - Window Functions\n",
    "### &nbsp; &nbsp; &nbsp; &nbsp; &nbsp; &nbsp; - Inheritance\n",
    "### &nbsp; &nbsp; &nbsp; &nbsp; &nbsp; &nbsp; - Data Types\n",
    "\n",
    "### -"
   ]
  }
 ],
 "metadata": {
  "celltoolbar": "Slideshow",
  "kernelspec": {
   "display_name": "Python 3",
   "language": "python",
   "name": "python3"
  },
  "language_info": {
   "codemirror_mode": {
    "name": "ipython",
    "version": 3
   },
   "file_extension": ".py",
   "mimetype": "text/x-python",
   "name": "python",
   "nbconvert_exporter": "python",
   "pygments_lexer": "ipython3",
   "version": "3.7.2"
  }
 },
 "nbformat": 4,
 "nbformat_minor": 2
}
