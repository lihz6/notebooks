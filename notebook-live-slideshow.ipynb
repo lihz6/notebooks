{
 "cells": [
  {
   "cell_type": "markdown",
   "metadata": {
    "slideshow": {
     "slide_type": "slide"
    }
   },
   "source": [
    "## Notebook Live Slideshow Setup\n",
    "\n",
    "```bash\n",
    "pip3 install --upgrade --force-reinstall --no-cache-dir jupyter\n",
    "pip3 install --upgrade --force-reinstall --no-cache-dir RISE\n",
    "\n",
    "sudo -E env \"PATH=$PATH\" jupyter-nbextension install rise --py\n",
    "sudo -E env \"PATH=$PATH\" jupyter-nbextension enable rise --py\n",
    "\n",
    "jupyter nbextension list\n",
    "\n",
    "jupyter notebook --no-browser\n",
    "```"
   ]
  },
  {
   "cell_type": "code",
   "execution_count": null,
   "metadata": {},
   "outputs": [],
   "source": []
  }
 ],
 "metadata": {
  "celltoolbar": "Slideshow",
  "kernelspec": {
   "display_name": "Python 3",
   "language": "python",
   "name": "python3"
  },
  "language_info": {
   "codemirror_mode": {
    "name": "ipython",
    "version": 3
   },
   "file_extension": ".py",
   "mimetype": "text/x-python",
   "name": "python",
   "nbconvert_exporter": "python",
   "pygments_lexer": "ipython3",
   "version": "3.7.3"
  }
 },
 "nbformat": 4,
 "nbformat_minor": 2
}
