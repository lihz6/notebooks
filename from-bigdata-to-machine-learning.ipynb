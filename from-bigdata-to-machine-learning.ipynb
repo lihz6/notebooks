{
 "cells": [
  {
   "cell_type": "markdown",
   "metadata": {
    "slideshow": {
     "slide_type": "slide"
    }
   },
   "source": [
    "# Contents\n",
    "\n",
    "---\n",
    "---\n",
    "\n",
    "## - From Bigdata to Hadoop\n",
    "\n",
    "### &nbsp; &nbsp; &nbsp; - Why Hadoop?\n",
    "### &nbsp; &nbsp; &nbsp; - Hadoop Architecture\n",
    "### &nbsp; &nbsp; &nbsp; - Setting up a Cluster\n",
    "\n",
    "## - Using Hadoop with Python\n",
    "\n",
    "### &nbsp; &nbsp; &nbsp; - HDFS I/O\n",
    "### &nbsp; &nbsp; &nbsp; - MapReduce\n",
    "\n",
    "## - Python Basics\n",
    "\n",
    "### &nbsp; &nbsp; &nbsp; - Environment\n",
    "### &nbsp; &nbsp; &nbsp; - Basic Syntax\n",
    "\n",
    "## - Maching Learning in Python\n",
    "\n",
    "### &nbsp; &nbsp; &nbsp; - What's Machine Learning?\n",
    "### &nbsp; &nbsp; &nbsp; - Python Utilities for ML\n",
    "\n",
    "## -"
   ]
  },
  {
   "cell_type": "markdown",
   "metadata": {
    "slideshow": {
     "slide_type": "slide"
    }
   },
   "source": [
    "## Why Hadoop?\n",
    "---\n",
    "\n",
    "### - Massive amounts of data is too big to store and compute on a single computer\n",
    "\n",
    "### &nbsp; &nbsp; &nbsp; - Hadoop Distributed File System (HDFS)\n",
    "### &nbsp; &nbsp; &nbsp; - MapReduce programming model\n",
    "\n",
    "### - Hardware failure is the norm rather than the exception\n",
    "\n",
    "### &nbsp; &nbsp; &nbsp; - Detection of faults\n",
    "### &nbsp; &nbsp; &nbsp; - Quick, automatic recovery\n",
    "\n",
    "### -"
   ]
  },
  {
   "cell_type": "markdown",
   "metadata": {},
   "source": [
    "## Hadoop Architecture\n",
    "---\n",
    "\n",
    "### -"
   ]
  },
  {
   "cell_type": "markdown",
   "metadata": {
    "slideshow": {
     "slide_type": "slide"
    }
   },
   "source": [
    "## Setting up a Cluster\n",
    "---\n",
    "\n",
    "### -"
   ]
  },
  {
   "cell_type": "markdown",
   "metadata": {
    "slideshow": {
     "slide_type": "slide"
    }
   },
   "source": [
    "## HDFS I/O\n",
    "---\n",
    "\n",
    "### -"
   ]
  },
  {
   "cell_type": "markdown",
   "metadata": {
    "slideshow": {
     "slide_type": "slide"
    }
   },
   "source": [
    "## MapReduce\n",
    "---\n",
    "\n",
    "### -"
   ]
  },
  {
   "cell_type": "markdown",
   "metadata": {
    "slideshow": {
     "slide_type": "slide"
    }
   },
   "source": [
    "## Environment\n",
    "---\n",
    "\n",
    "### -"
   ]
  },
  {
   "cell_type": "markdown",
   "metadata": {
    "slideshow": {
     "slide_type": "slide"
    }
   },
   "source": [
    "## Basic Syntax\n",
    "---\n",
    "\n",
    "### -"
   ]
  },
  {
   "cell_type": "markdown",
   "metadata": {
    "slideshow": {
     "slide_type": "slide"
    }
   },
   "source": [
    "## What's Machine Learning?\n",
    "---\n",
    "\n",
    "### -"
   ]
  },
  {
   "cell_type": "markdown",
   "metadata": {
    "slideshow": {
     "slide_type": "slide"
    }
   },
   "source": [
    "## Python Utilities for ML\n",
    "---\n",
    "\n",
    "### -"
   ]
  }
 ],
 "metadata": {
  "celltoolbar": "Slideshow",
  "kernelspec": {
   "display_name": "Python 3",
   "language": "python",
   "name": "python3"
  },
  "language_info": {
   "codemirror_mode": {
    "name": "ipython",
    "version": 3
   },
   "file_extension": ".py",
   "mimetype": "text/x-python",
   "name": "python",
   "nbconvert_exporter": "python",
   "pygments_lexer": "ipython3",
   "version": "3.7.2"
  }
 },
 "nbformat": 4,
 "nbformat_minor": 2
}
